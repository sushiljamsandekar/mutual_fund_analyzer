{
 "cells": [
  {
   "cell_type": "code",
   "execution_count": 2,
   "id": "4bef45f6",
   "metadata": {},
   "outputs": [],
   "source": [
    "from datetime import datetime, timedelta\n",
    "import pandas as pd\n",
    "import yfinance as yf\n",
    "import mplfinance as mpf\n",
    "from datetime import datetime, timedelta\n",
    "\n",
    "#ticker_symbol = 'AAPL'\n",
    "\n",
    "#data = yf.download(ticker_symbol, start='2020-01-01', end='2023-01-01')"
   ]
  },
  {
   "cell_type": "code",
   "execution_count": 9,
   "id": "9d78ebaa",
   "metadata": {},
   "outputs": [],
   "source": [
    "index_symbol = \"^NSEI\"\n",
    "range_years=10\n",
    "try:\n",
    "    # Calculate start and end dates based on range_years\n",
    "    end_date = datetime.now()\n",
    "    start_date = end_date - timedelta(days=range_years*365)\n",
    "    \n",
    "    # Fetch data from Yahoo Finance\n",
    "    index_data = yf.download(\n",
    "        index_symbol,\n",
    "        start=start_date.strftime('%Y-%m-%d'),\n",
    "        end=end_date.strftime('%Y-%m-%d'),\n",
    "        progress=False,\n",
    "        auto_adjust=True,\n",
    "        interval='1d'  # Daily data for CAGR calculation\n",
    "    )\n",
    "    \n",
    "    if index_data.empty:\n",
    "        print(f\"No data returned for index symbol: {index_symbol}\")\n",
    "        \n",
    "    # Convert to format compatible with calculator.calculate_index_returns\n",
    "    # The original function expects a specific structure from the Yahoo Finance API\n",
    "    timestamps = []\n",
    "    values = []\n",
    "    \n",
    "    for date, row in index_data.iterrows():\n",
    "        #print(row)\n",
    "        # Convert pandas timestamp to Unix timestamp (seconds)\n",
    "        unix_timestamp = int(date.timestamp())\n",
    "        timestamps.append(unix_timestamp)\n",
    "        values.append(row['Close'])\n",
    "    \n",
    "    #print(f\"Values for {index_symbol}: {values}\")\n",
    "    # Create a structure similar to what the original API returned\n",
    "    result = {\n",
    "        'meta': {\n",
    "            'symbol': index_symbol,\n",
    "            'currency': 'INR'\n",
    "        },\n",
    "        'timestamp': timestamps,\n",
    "        'indicators': {\n",
    "            'adjclose': [\n",
    "                {\n",
    "                    'adjclose': values\n",
    "                }\n",
    "            ]\n",
    "        }\n",
    "    }\n",
    "except Exception as e:\n",
    "    print(f\"Error fetching index data for {index_symbol}: {e}\")"
   ]
  },
  {
   "cell_type": "code",
   "execution_count": 21,
   "id": "8ac724a6",
   "metadata": {},
   "outputs": [
    {
     "data": {
      "text/plain": [
       "Date\n",
       "2015-06-10     8124.450195\n",
       "2015-06-11     7965.350098\n",
       "2015-06-12     7982.899902\n",
       "2015-06-15     8013.899902\n",
       "2015-06-16     8047.299805\n",
       "                  ...     \n",
       "2025-06-02    24716.599609\n",
       "2025-06-03    24542.500000\n",
       "2025-06-04    24620.199219\n",
       "2025-06-05    24750.900391\n",
       "2025-06-06    25003.050781\n",
       "Name: ^NSEI, Length: 2460, dtype: float64"
      ]
     },
     "execution_count": 21,
     "metadata": {},
     "output_type": "execute_result"
    }
   ],
   "source": [
    "index_data.get('Close').get(\"^NSEI\")"
   ]
  },
  {
   "cell_type": "code",
   "execution_count": null,
   "id": "db4d156a",
   "metadata": {},
   "outputs": [
    {
     "ename": "NameError",
     "evalue": "name 'index_data' is not defined",
     "output_type": "error",
     "traceback": [
      "\u001b[31m---------------------------------------------------------------------------\u001b[39m",
      "\u001b[31mNameError\u001b[39m                                 Traceback (most recent call last)",
      "\u001b[36mCell\u001b[39m\u001b[36m \u001b[39m\u001b[32mIn[6]\u001b[39m\u001b[32m, line 1\u001b[39m\n\u001b[32m----> \u001b[39m\u001b[32m1\u001b[39m \u001b[43mindex_data\u001b[49m\n",
      "\u001b[31mNameError\u001b[39m: name 'index_data' is not defined"
     ]
    }
   ],
   "source": []
  }
 ],
 "metadata": {
  "kernelspec": {
   "display_name": "venv",
   "language": "python",
   "name": "python3"
  },
  "language_info": {
   "codemirror_mode": {
    "name": "ipython",
    "version": 3
   },
   "file_extension": ".py",
   "mimetype": "text/x-python",
   "name": "python",
   "nbconvert_exporter": "python",
   "pygments_lexer": "ipython3",
   "version": "3.12.10"
  }
 },
 "nbformat": 4,
 "nbformat_minor": 5
}
